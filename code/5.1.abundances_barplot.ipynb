{
 "cells": [
  {
   "cell_type": "markdown",
   "metadata": {},
   "source": [
    "## 5.1. abundances barplot\n",
    "\n",
    "In this Notebook we will compare the abundances of each cluster in the different response timepoints (3h, 24h, 72h) to the abundance of that same cluster in the control subset. Since each subset consists of four replicates (defined by the hashtags), we can include an error margin. "
   ]
  },
  {
   "cell_type": "code",
   "execution_count": 1,
   "metadata": {},
   "outputs": [],
   "source": [
    "### loading python libraries\n",
    "\n",
    "# standard libraries\n",
    "import numpy as np\n",
    "import pandas as pd\n",
    "\n",
    "# single cell libraries\n",
    "import anndata as ad\n",
    "import scanpy as sc\n",
    "sc.settings.verbosity = 0\n",
    "\n",
    "# other \n",
    "from matplotlib import pyplot as plt\n",
    "import warnings\n",
    "warnings.filterwarnings('ignore') #ignore filter warnings\n",
    "plt.rcParams['pdf.fonttype'] = 42 #for saving PDF with changeable text\n",
    "plt.rcParams['ps.fonttype'] = 42 #for saving PDF with changeable text"
   ]
  },
  {
   "cell_type": "markdown",
   "metadata": {},
   "source": [
    "### Load dataset\n",
    "\n",
    "Here, we load the filtered HSPC dataset (as filtered in notebook 1.3)."
   ]
  },
  {
   "cell_type": "code",
   "execution_count": 2,
   "metadata": {},
   "outputs": [],
   "source": [
    "### load Anndata object with the HSPC dataset (all four subsets incl.)\n",
    "adata_path = \"../data/count_matrices/all_filtered.h5ad\"\n",
    "adata = sc.read_h5ad(adata_path)"
   ]
  },
  {
   "cell_type": "markdown",
   "metadata": {},
   "source": [
    "### Calculate abundances\n",
    "Here, we calculate the abundance of each cluster in each timepoint. We calculate the abundance for every hashtag, and the total abundance is the average of the four different hashtags."
   ]
  },
  {
   "cell_type": "code",
   "execution_count": 3,
   "metadata": {},
   "outputs": [],
   "source": [
    "### get timepoints and hashtags\n",
    "timepoints = adata.obs['time'].cat.categories\n",
    "hashtags = adata.obs['hashtags'].cat.categories"
   ]
  },
  {
   "cell_type": "code",
   "execution_count": 4,
   "metadata": {},
   "outputs": [],
   "source": [
    "mean_abundances = []\n",
    "std_abundances = []\n",
    "\n",
    "### get abundance of each tag, in each timepoint, for each cluster\n",
    "for i in range(len(timepoints)):\n",
    "    abund_per_tag = []\n",
    "\n",
    "    for tag in hashtags:\n",
    "        abund_tag = pd.DataFrame(adata[(adata.obs[\"hashtags\"]==tag)&(adata.obs[\"time\"]==timepoints[i])].obs[\"clusters\"].value_counts())\n",
    "        abund_tag = abund_tag.set_index(abund_tag.index.astype(\"str\"))\n",
    "        abund_per_tag.append(abund_tag)\n",
    "\n",
    "    abund_per_tag = pd.concat(abund_per_tag, axis=1)\n",
    "    abund_per_tag.columns = hashtags\n",
    "    total_cells = pd.DataFrame(abund_per_tag.sum()).transpose()\n",
    "    abund_per_tag = abund_per_tag/total_cells.loc[0]*100\n",
    "    abund_per_tag = abund_per_tag.fillna(0) #replace nans with 0\n",
    "    \n",
    "    abund_mean = abund_per_tag.mean(axis=1)\n",
    "    abund_std = abund_per_tag.std(axis=1)\n",
    "    \n",
    "    mean_abundances.append(abund_mean)\n",
    "    std_abundances.append(abund_std)\n",
    "\n",
    "### make dataframe of the mean abundances\n",
    "mean_abundances = pd.concat(mean_abundances, axis=1)\n",
    "mean_abundances.columns = timepoints\n",
    "mean_abundances = mean_abundances.loc[adata.obs['clusters'].cat.categories,]\n",
    "\n",
    "### make dataframe of standard deviations\n",
    "std_abundances = pd.concat(std_abundances, axis=1)\n",
    "std_abundances.columns = timepoints\n",
    "std_abundances = std_abundances.loc[adata.obs['clusters'].cat.categories,]"
   ]
  },
  {
   "cell_type": "markdown",
   "metadata": {},
   "source": [
    "### Plot abundances\n",
    "Here, we plot the abundances that we retrieved above."
   ]
  },
  {
   "cell_type": "code",
   "execution_count": 5,
   "metadata": {},
   "outputs": [
    {
     "data": {
      "image/png": "[encoded data removed]",
      "text/plain": [
       "<Figure size 720x144 with 1 Axes>"
      ]
     },
     "metadata": {
      "needs_background": "light"
     },
     "output_type": "display_data"
    }
   ],
   "source": [
    "### plot abundances\n",
    "fig, axs = plt.subplots(1, 1, figsize=(10,2))\n",
    "\n",
    "mean_abundances.plot(kind=\"bar\", yerr=std_abundances, ax=axs, width=0.7, edgecolor = \"black\")\n",
    "axs.grid(False)\n",
    "\n",
    "# add legend and labels\n",
    "axs.set_ylabel(\"abundance (% of total)\")\n",
    "axs.legend(loc=\"right\", bbox_to_anchor=(1.14, 0.5), ncol=1, frameon=False)\n",
    "\n",
    "# save figure\n",
    "save_path = \"../figures/5.1.abundances_barplot.pdf\"\n",
    "fig.savefig(save_path, bbox_inches='tight', format='pdf', dpi=300)\n",
    "\n",
    "plt.show()"
   ]
  },
  {
   "cell_type": "code",
   "execution_count": 6,
   "metadata": {},
   "outputs": [
    {
     "data": {
      "image/png": "[encoded data removed]",
      "text/plain": [
       "<Figure size 720x144 with 1 Axes>"
      ]
     },
     "metadata": {
      "needs_background": "light"
     },
     "output_type": "display_data"
    }
   ],
   "source": [
    "### plot abundances\n",
    "fig, axs = plt.subplots(1, 1, figsize=(10,2))\n",
    "\n",
    "mean_abundances.plot(kind=\"bar\", yerr=std_abundances, ax=axs, width=0.7, \n",
    "                     color=['dimgray', 'darkgray', 'lightgray', 'whitesmoke'], edgecolor = \"black\")\n",
    "axs.grid(False)\n",
    "\n",
    "# add legend and labels\n",
    "axs.set_ylabel(\"abundance (% of total)\")\n",
    "axs.legend(loc=\"right\", bbox_to_anchor=(1.14, 0.5), ncol=1, frameon=False)\n",
    "\n",
    "# save figure\n",
    "save_path = \"../figures/5.1.abundances_barplot_graytones.pdf\"\n",
    "fig.savefig(save_path, bbox_inches='tight', format='pdf', dpi=300)\n",
    "\n",
    "plt.show()"
   ]
  }
 ],
 "metadata": {
  "kernelspec": {
   "display_name": "prj_MSC",
   "language": "python",
   "name": "prj_msc"
  },
  "language_info": {
   "codemirror_mode": {
    "name": "ipython",
    "version": 3
   },
   "file_extension": ".py",
   "mimetype": "text/x-python",
   "name": "python",
   "nbconvert_exporter": "python",
   "pygments_lexer": "ipython3",
   "version": "3.8.5"
  }
 },
 "nbformat": 4,
 "nbformat_minor": 4
}
