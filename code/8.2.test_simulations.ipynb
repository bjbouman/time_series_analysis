{
 "cells": [
  {
   "cell_type": "markdown",
   "id": "79fff9d9-3a7d-420b-a46c-aa6b504b9537",
   "metadata": {},
   "source": [
    "## 8.2. test simulations\n",
    "\n",
    "This notebook applies our pseudotime method on a simulation dataset. Note: the R code in script 3.1. has been converted to Python script for this purpose."
   ]
  },
  {
   "cell_type": "code",
   "execution_count": null,
   "id": "ead23c66-a5d1-4681-9bcb-9189ec35d3c7",
   "metadata": {},
   "outputs": [],
   "source": [
    "### load libraries\n",
    "\n",
    "# standard libraries\n",
    "import numpy as np"
   ]
  },
  {
   "cell_type": "markdown",
   "id": "a7245b2e-0e0a-41bd-b68a-5922b0c68164",
   "metadata": {},
   "source": [
    "Function `response_pseudotime` is the same as the original function in script 3.1. "
   ]
  },
  {
   "cell_type": "code",
   "execution_count": null,
   "id": "f0a7ebd9-b915-4908-a70a-608dc20e7915",
   "metadata": {},
   "outputs": [],
   "source": [
    "### create function of regression model without intercept\n",
    "def response_pseudotime(X,Tvect):\n",
    "    \"\"\"\n",
    "    Calculate pseudotime using a regression model without an intercept.\n",
    "\n",
    "    Parameters:\n",
    "    - X: numpy array, count matrix (cells x genes)\n",
    "    - Tvect: numpy array, vector of experimental timepoints for each cell\n",
    "\n",
    "    Returns:\n",
    "    - PT: numpy array, pseudotime values\n",
    "    \"\"\"\n",
    "    \n",
    "    # get covariance matrix\n",
    "    XXt = np.dot(X, X.T)\n",
    "\n",
    "    # find the inverse of XXt\n",
    "    XXtinv = np.linalg.inv(XXt)\n",
    "\n",
    "    # find the transformation (W) in gene space\n",
    "    W = np.dot(np.dot(XXtinv, X), Tvect)\n",
    "\n",
    "    # derive pseudotime (PT) from transformation\n",
    "    PT = np.dot(W.T, X)\n",
    "    \n",
    "    return(PT)"
   ]
  },
  {
   "cell_type": "markdown",
   "id": "ad64b378-503d-4b44-8600-570d85661333",
   "metadata": {},
   "source": [
    "Here, we calculate pseudotime for different types of simulations to see how well we are able to recover the pseudotemporal order and the temporal dynamics of individual genes."
   ]
  },
  {
   "cell_type": "code",
   "execution_count": null,
   "id": "a7f8d14e-c9a2-4dee-964f-7b6cd644a376",
   "metadata": {},
   "outputs": [],
   "source": []
  },
  {
   "cell_type": "markdown",
   "id": "1c66aa4d-7b53-4a66-b799-eb180c22819c",
   "metadata": {},
   "source": [
    "Here, we compare our original regression model with a model with intercept included. "
   ]
  },
  {
   "cell_type": "code",
   "execution_count": null,
   "id": "8f3806e4-ab36-4364-8566-d2d106126e75",
   "metadata": {},
   "outputs": [],
   "source": [
    "### create function of regression model with intercept\n",
    "def calculate_pseudotime_intercept(X, Tvect):\n",
    "    \"\"\"\n",
    "    Calculate pseudotime using a regression model with an intercept.\n",
    "\n",
    "    Parameters:\n",
    "    - X: numpy array, count matrix (cells x genes)\n",
    "    - Tvect: numpy array, vector of experimental timepoints for each cell\n",
    "\n",
    "    Returns:\n",
    "    - PT: numpy array, pseudotime values\n",
    "    \"\"\"\n",
    "\n",
    "    # add a column of ones for the intercept\n",
    "    X_with_intercept = np.column_stack((np.ones(X.shape[0]), X))\n",
    "\n",
    "    # get covariance matrix\n",
    "    XXt = np.dot(X_with_intercept, X_with_intercept.T)\n",
    "\n",
    "    # find the inverse of XXt\n",
    "    XXtinv = np.linalg.inv(XXt)\n",
    "\n",
    "    # find the transformation (W) in genes space\n",
    "    W = np.dot(np.dot(XXtinv, X_with_intercept), Tvect)\n",
    "\n",
    "    # derive pseudotime (PT) from transformation\n",
    "    PT = np.dot(W.T, X_with_intercept)\n",
    "\n",
    "    return PT"
   ]
  }
 ],
 "metadata": {
  "kernelspec": {
   "display_name": "prj_MSC",
   "language": "python",
   "name": "prj_msc"
  },
  "language_info": {
   "codemirror_mode": {
    "name": "ipython",
    "version": 3
   },
   "file_extension": ".py",
   "mimetype": "text/x-python",
   "name": "python",
   "nbconvert_exporter": "python",
   "pygments_lexer": "ipython3",
   "version": "3.8.5"
  }
 },
 "nbformat": 4,
 "nbformat_minor": 5
}
