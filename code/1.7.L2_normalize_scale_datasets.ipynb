{
 "cells": [
  {
   "cell_type": "markdown",
   "id": "through-drilling",
   "metadata": {},
   "source": [
    "## 1.7. L2 normalize and scale dataset\n",
    "\n",
    "This notebook can be used to create Anndata and Seurat normalized and scaled count matrices from the complete time series or the control subset. For some downstream analyses (like calculating the pseudotemporal ordering in R script 3.1) we will need a normalized and scaled version of the data. In case you want to run those codes you will need to run this Notebook first."
   ]
  },
  {
   "cell_type": "code",
   "execution_count": 1,
   "id": "needed-playlist",
   "metadata": {},
   "outputs": [],
   "source": [
    "### loading python libraries\n",
    "\n",
    "# standard libraries\n",
    "import numpy as np\n",
    "import pandas as pd\n",
    "\n",
    "# single cell libraries\n",
    "import anndata as ad\n",
    "import scanpy as sc\n",
    "sc.settings.verbosity = 0 \n",
    "\n",
    "# other \n",
    "import warnings\n",
    "warnings.filterwarnings('ignore') #ignore filter warnings\n",
    "import sklearn as sk #used for L2 normalization\n",
    "import sklearn.preprocessing #used for L2 normalization\n",
    "import os #to get absolute path of file"
   ]
  },
  {
   "cell_type": "code",
   "execution_count": 2,
   "id": "empty-found",
   "metadata": {},
   "outputs": [],
   "source": [
    "### load R into Notebook \n",
    "%load_ext rpy2.ipython "
   ]
  },
  {
   "cell_type": "markdown",
   "id": "identified-examination",
   "metadata": {},
   "source": [
    "### Load data\n",
    "\n",
    "Here, we load the filtered complete dataset and control-only HSPC subset (as filtered in notebook 1.1 and 1.3 respectively)."
   ]
  },
  {
   "cell_type": "code",
   "execution_count": 3,
   "id": "incident-record",
   "metadata": {},
   "outputs": [],
   "source": [
    "### load Anndata object with the control subset \n",
    "adata_ctrl_path = \"../data/count_matrices/control_filtered.h5ad\"\n",
    "adata_ctrl = sc.read_h5ad(adata_ctrl_path)"
   ]
  },
  {
   "cell_type": "code",
   "execution_count": 4,
   "id": "little-enterprise",
   "metadata": {},
   "outputs": [],
   "source": [
    "### load Anndata object with the HSPC dataset (all four subsets incl.)\n",
    "adata_path = \"../data/count_matrices/all_filtered.h5ad\"\n",
    "adata = sc.read_h5ad(adata_path)"
   ]
  },
  {
   "cell_type": "code",
   "execution_count": 5,
   "id": "separate-fisher",
   "metadata": {},
   "outputs": [],
   "source": [
    "### L2 normalize both dataset\n",
    "adata_ctrl.X = sk.preprocessing.normalize(adata_ctrl.X, norm='l2')\n",
    "adata.X = sk.preprocessing.normalize(adata.X, norm='l2')"
   ]
  },
  {
   "cell_type": "markdown",
   "id": "macro-laugh",
   "metadata": {},
   "source": [
    "### Save as Anndata objects\n",
    "\n",
    "Save the L2 normalized version of the control subset and complete HSPC dataset as Anndata objects."
   ]
  },
  {
   "cell_type": "code",
   "execution_count": 6,
   "id": "wooden-buffer",
   "metadata": {},
   "outputs": [],
   "source": [
    "### save Anndata object\n",
    "name_file = \"control_filtered_L2-normalized.h5ad\"\n",
    "adata_ctrl_path  = \"../data/count_matrices/\" + name_file\n",
    "adata_ctrl.write_h5ad(adata_ctrl_path)"
   ]
  },
  {
   "cell_type": "code",
   "execution_count": 7,
   "id": "activated-armor",
   "metadata": {},
   "outputs": [],
   "source": [
    "### save Anndata object\n",
    "name_file = \"all_filtered_L2-normalized.h5ad\"\n",
    "adata_path  = \"../data/count_matrices/\" + name_file\n",
    "adata.write_h5ad(adata_path)"
   ]
  },
  {
   "cell_type": "markdown",
   "id": "micro-appearance",
   "metadata": {},
   "source": [
    "### Save as Seurat objects\n",
    "\n",
    "Convert the L2 normalized version of the control subset and complete HSPC dataset from Anndata to Seurat objects."
   ]
  },
  {
   "cell_type": "code",
   "execution_count": 8,
   "id": "failing-consumer",
   "metadata": {},
   "outputs": [],
   "source": [
    "### get absolute path of anndata object\n",
    "adata_ctrl_path = os.path.abspath(adata_ctrl_path)"
   ]
  },
  {
   "cell_type": "code",
   "execution_count": 9,
   "id": "studied-speech",
   "metadata": {},
   "outputs": [
    {
     "name": "stderr",
     "output_type": "stream",
     "text": [
      "R[write to console]: Attaching SeuratObject\n",
      "\n",
      "R[write to console]: Registered S3 method overwritten by 'SeuratDisk':\n",
      "  method            from  \n",
      "  as.sparse.H5Group Seurat\n",
      "\n",
      "R[write to console]: Warnung:\n",
      "R[write to console]:  Unknown file type: h5ad\n",
      "\n",
      "R[write to console]: Warnung:\n",
      "R[write to console]:  'assay' not set, setting to 'RNA'\n",
      "\n",
      "R[write to console]: Creating h5Seurat file for version 3.1.5.9900\n",
      "\n",
      "R[write to console]: Adding X as data\n",
      "\n",
      "R[write to console]: Adding X as counts\n",
      "\n",
      "R[write to console]: Adding meta.features from var\n",
      "\n",
      "R[write to console]: Adding X_umap as cell embeddings for umap\n",
      "\n",
      "R[write to console]: Adding clusters_colors to miscellaneous data\n",
      "\n"
     ]
    }
   ],
   "source": [
    "%%R -i adata_ctrl_path \n",
    "\n",
    "### load packages\n",
    "library(Seurat) \n",
    "library(SeuratDisk)\n",
    "\n",
    "### load dataset\n",
    "dataset_dir <- adata_ctrl_path\n",
    "\n",
    "### convert h5ad to h5seurat \n",
    "Convert(dataset_dir, paste0(tools::file_path_sans_ext(dataset_dir), \".h5seurat\"), overwrite=TRUE)"
   ]
  },
  {
   "cell_type": "code",
   "execution_count": 10,
   "id": "fossil-bradford",
   "metadata": {},
   "outputs": [],
   "source": [
    "### get absolute path of anndata object\n",
    "adata_path = os.path.abspath(adata_path)"
   ]
  },
  {
   "cell_type": "code",
   "execution_count": 11,
   "id": "refined-preference",
   "metadata": {
    "scrolled": true
   },
   "outputs": [
    {
     "name": "stderr",
     "output_type": "stream",
     "text": [
      "R[write to console]: Warnung:\n",
      "R[write to console]:  Unknown file type: h5ad\n",
      "\n",
      "R[write to console]: Warnung:\n",
      "R[write to console]:  'assay' not set, setting to 'RNA'\n",
      "\n",
      "R[write to console]: Creating h5Seurat file for version 3.1.5.9900\n",
      "\n",
      "R[write to console]: Adding X as data\n",
      "\n",
      "R[write to console]: Adding X as counts\n",
      "\n",
      "R[write to console]: Adding meta.features from var\n",
      "\n",
      "R[write to console]: Adding X_umap as cell embeddings for umap\n",
      "\n",
      "R[write to console]: Adding clusters_colors to miscellaneous data\n",
      "\n"
     ]
    }
   ],
   "source": [
    "%%R -i adata_path \n",
    "\n",
    "### load packages\n",
    "library(Seurat) \n",
    "library(SeuratDisk)\n",
    "\n",
    "### load dataset\n",
    "dataset_dir <- adata_path\n",
    "\n",
    "### convert h5ad to h5seurat \n",
    "Convert(dataset_dir, paste0(tools::file_path_sans_ext(dataset_dir), \".h5seurat\"), overwrite=TRUE)"
   ]
  },
  {
   "cell_type": "markdown",
   "id": "romantic-investigation",
   "metadata": {},
   "source": [
    "### Scale data"
   ]
  },
  {
   "cell_type": "code",
   "execution_count": 12,
   "id": "speaking-cholesterol",
   "metadata": {},
   "outputs": [],
   "source": [
    "### scale data\n",
    "sc.pp.scale(adata_ctrl)\n",
    "sc.pp.scale(adata)"
   ]
  },
  {
   "cell_type": "markdown",
   "id": "continuing-southeast",
   "metadata": {},
   "source": [
    "### Save as Anndata objects\n",
    "\n",
    "Save the L2 normalized and scaled version of the control subset and complete HSPC dataset as Anndata objects."
   ]
  },
  {
   "cell_type": "code",
   "execution_count": 13,
   "id": "written-camcorder",
   "metadata": {},
   "outputs": [],
   "source": [
    "### save Anndata object\n",
    "name_file = \"control_filtered_L2-normalized_scaled.h5ad\"\n",
    "adata_ctrl_path  = \"../data/count_matrices/\" + name_file\n",
    "adata_ctrl.write_h5ad(adata_ctrl_path)"
   ]
  },
  {
   "cell_type": "code",
   "execution_count": 14,
   "id": "imposed-consideration",
   "metadata": {},
   "outputs": [],
   "source": [
    "### save Anndata object\n",
    "name_file = \"all_filtered_L2-normalized_scaled.h5ad\"\n",
    "adata_path  = \"../data/count_matrices/\" + name_file\n",
    "adata.write_h5ad(adata_path)"
   ]
  },
  {
   "cell_type": "markdown",
   "id": "irish-alcohol",
   "metadata": {},
   "source": [
    "### Save as Seurat objects\n",
    "\n",
    "Convert the L2 normalized and scaled version of the control subset and complete HSPC dataset from Anndata to Seurat objects."
   ]
  },
  {
   "cell_type": "code",
   "execution_count": 15,
   "id": "spare-mentor",
   "metadata": {},
   "outputs": [],
   "source": [
    "### get absolute path of anndata object\n",
    "adata_ctrl_path = os.path.abspath(adata_ctrl_path)"
   ]
  },
  {
   "cell_type": "code",
   "execution_count": 16,
   "id": "viral-difficulty",
   "metadata": {},
   "outputs": [
    {
     "name": "stderr",
     "output_type": "stream",
     "text": [
      "R[write to console]: Warnung:\n",
      "R[write to console]:  Unknown file type: h5ad\n",
      "\n",
      "R[write to console]: Warnung:\n",
      "R[write to console]:  'assay' not set, setting to 'RNA'\n",
      "\n",
      "R[write to console]: Creating h5Seurat file for version 3.1.5.9900\n",
      "\n",
      "R[write to console]: Adding X as scale.data\n",
      "\n",
      "R[write to console]: Adding X as data\n",
      "\n",
      "R[write to console]: Adding X as counts\n",
      "\n",
      "R[write to console]: Adding meta.features from var\n",
      "\n",
      "R[write to console]: Adding X_umap as cell embeddings for umap\n",
      "\n",
      "R[write to console]: Adding clusters_colors to miscellaneous data\n",
      "\n"
     ]
    }
   ],
   "source": [
    "%%R -i adata_ctrl_path \n",
    "\n",
    "### load packages\n",
    "library(Seurat) \n",
    "library(SeuratDisk)\n",
    "\n",
    "### load dataset\n",
    "dataset_dir <- adata_ctrl_path\n",
    "\n",
    "### convert h5ad to h5seurat \n",
    "Convert(dataset_dir, paste0(tools::file_path_sans_ext(dataset_dir), \".h5seurat\"), overwrite=TRUE)"
   ]
  },
  {
   "cell_type": "code",
   "execution_count": 17,
   "id": "certain-berkeley",
   "metadata": {},
   "outputs": [],
   "source": [
    "### get absolute path of anndata object\n",
    "adata_path = os.path.abspath(adata_path)"
   ]
  },
  {
   "cell_type": "code",
   "execution_count": 18,
   "id": "environmental-break",
   "metadata": {},
   "outputs": [
    {
     "name": "stderr",
     "output_type": "stream",
     "text": [
      "R[write to console]: Warnung:\n",
      "R[write to console]:  Unknown file type: h5ad\n",
      "\n",
      "R[write to console]: Warnung:\n",
      "R[write to console]:  'assay' not set, setting to 'RNA'\n",
      "\n",
      "R[write to console]: Creating h5Seurat file for version 3.1.5.9900\n",
      "\n",
      "R[write to console]: Adding X as scale.data\n",
      "\n",
      "R[write to console]: Adding X as data\n",
      "\n",
      "R[write to console]: Adding X as counts\n",
      "\n",
      "R[write to console]: Adding meta.features from var\n",
      "\n",
      "R[write to console]: Adding X_umap as cell embeddings for umap\n",
      "\n",
      "R[write to console]: Adding clusters_colors to miscellaneous data\n",
      "\n"
     ]
    }
   ],
   "source": [
    "%%R -i adata_path \n",
    "\n",
    "### load packages\n",
    "library(Seurat) \n",
    "library(SeuratDisk)\n",
    "\n",
    "### load dataset\n",
    "dataset_dir <- adata_path\n",
    "\n",
    "### convert h5ad to h5seurat \n",
    "Convert(dataset_dir, paste0(tools::file_path_sans_ext(dataset_dir), \".h5seurat\"), overwrite=TRUE)"
   ]
  }
 ],
 "metadata": {
  "kernelspec": {
   "display_name": "prj_MSC",
   "language": "python",
   "name": "prj_msc"
  },
  "language_info": {
   "codemirror_mode": {
    "name": "ipython",
    "version": 3
   },
   "file_extension": ".py",
   "mimetype": "text/x-python",
   "name": "python",
   "nbconvert_exporter": "python",
   "pygments_lexer": "ipython3",
   "version": "3.8.5"
  }
 },
 "nbformat": 4,
 "nbformat_minor": 5
}
